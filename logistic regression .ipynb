{
 "cells": [
  {
   "cell_type": "code",
   "execution_count": null,
   "metadata": {},
   "outputs": [],
   "source": [
    "Q4. Build a logistic regression model to predict whether a student gets \n",
    "admitted into a university using appropriate dataset. "
   ]
  },
  {
   "cell_type": "code",
   "execution_count": null,
   "metadata": {},
   "outputs": [],
   "source": []
  },
  {
   "cell_type": "code",
   "execution_count": 3,
   "metadata": {},
   "outputs": [],
   "source": [
    "#Import Necessary Libraries\n",
    "import numpy as np\n",
    "import pandas as pd\n",
    "from sklearn.model_selection import train_test_split\n",
    "from sklearn.preprocessing import StandardScaler\n",
    "from sklearn.linear_model import LogisticRegression\n",
    "from sklearn.metrics import accuracy_score, confusion_matrix, classification_report\n"
   ]
  },
  {
   "cell_type": "code",
   "execution_count": 4,
   "metadata": {},
   "outputs": [
    {
     "name": "stdout",
     "output_type": "stream",
     "text": [
      "Accuracy: 0.34\n",
      "\n",
      "Confusion Matrix:\n",
      "[[8 3 3]\n",
      " [6 7 5]\n",
      " [8 8 2]]\n",
      "\n",
      "Classification Report:\n",
      "              precision    recall  f1-score   support\n",
      "\n",
      "    Accepted       0.36      0.57      0.44        14\n",
      "    Rejected       0.39      0.39      0.39        18\n",
      "  Waitlisted       0.20      0.11      0.14        18\n",
      "\n",
      "    accuracy                           0.34        50\n",
      "   macro avg       0.32      0.36      0.33        50\n",
      "weighted avg       0.31      0.34      0.32        50\n",
      "\n"
     ]
    }
   ],
   "source": [
    "#Import the dataset and convert it into a dataframe \n",
    "df = pd.read_csv(r'student_admission_dataset.csv')\n",
    "\n",
    "# Features (X) and target (y)\n",
    "X = df[['GPA', 'SAT_Score', 'Extracurricular_Activities']]\n",
    "y = df['Admission_Status']\n",
    "\n",
    "# Splitting the dataset into training and testing sets (80-20 split)\n",
    "X_train, X_test, y_train, y_test = train_test_split(X, y, test_size=0.2, random_state=42)\n",
    "\n",
    "# Standardize the features for better performance\n",
    "scaler = StandardScaler()\n",
    "X_train = scaler.fit_transform(X_train)\n",
    "X_test = scaler.transform(X_test)\n",
    "\n",
    "# Building the Logistic Regression model\n",
    "model = LogisticRegression()\n",
    "model.fit(X_train, y_train)\n",
    "\n",
    "# Predictions\n",
    "y_pred = model.predict(X_test)\n",
    "\n",
    "# Evaluate the model\n",
    "accuracy = accuracy_score(y_test, y_pred)\n",
    "conf_matrix = confusion_matrix(y_test, y_pred)\n",
    "class_report = classification_report(y_test, y_pred)\n",
    "\n",
    "# Output results\n",
    "print(f'Accuracy: {accuracy}\\n')\n",
    "print(f'Confusion Matrix:\\n{conf_matrix}\\n')\n",
    "print(f'Classification Report:\\n{class_report}')"
   ]
  },
  {
   "cell_type": "code",
   "execution_count": 8,
   "metadata": {},
   "outputs": [
    {
     "name": "stdout",
     "output_type": "stream",
     "text": [
      "\n",
      "--- Predict Admission Status for a New Student ---\n"
     ]
    },
    {
     "name": "stderr",
     "output_type": "stream",
     "text": [
      "/Users/rajesh/Library/Python/3.9/lib/python/site-packages/sklearn/base.py:493: UserWarning: X does not have valid feature names, but StandardScaler was fitted with feature names\n",
      "  warnings.warn(\n"
     ]
    },
    {
     "name": "stdout",
     "output_type": "stream",
     "text": [
      "\n",
      "The input GPA is : 3.94\n",
      "The input SAT Score : 998.0\n",
      "The input Extracurricular Activities Score : 4.0\n",
      "Prediction: The student is NOT likely to be admitted.\n",
      "\n",
      "\n",
      "\n",
      "--- Predict Admission Status for a New Student ---\n",
      "\n",
      "The input GPA is : 5.0\n",
      "The input SAT Score : 1000.0\n",
      "The input Extracurricular Activities Score : 1.0\n",
      "Prediction: The student is NOT likely to be admitted.\n",
      "\n",
      "\n"
     ]
    },
    {
     "name": "stderr",
     "output_type": "stream",
     "text": [
      "/Users/rajesh/Library/Python/3.9/lib/python/site-packages/sklearn/base.py:493: UserWarning: X does not have valid feature names, but StandardScaler was fitted with feature names\n",
      "  warnings.warn(\n"
     ]
    }
   ],
   "source": [
    "def predict_admission(model, scaler):\n",
    "    print(\"\\n--- Predict Admission Status for a New Student ---\")\n",
    "\n",
    "    # Collect user input for prediction\n",
    "    gpa = float(input(\"Enter GPA: \"))\n",
    "    sat_score = float(input(\"Enter SAT Score: \"))\n",
    "    extra_activities = float(input(\"Enter Extracurricular Activities Score (e.g., 0-5): \"))\n",
    "\n",
    "    print(\"\\nThe input GPA is :\", gpa)\n",
    "    print(\"The input SAT Score :\", sat_score)\n",
    "    print(\"The input Extracurricular Activities Score :\", extra_activities)\n",
    "\n",
    "    # Standardize the input data\n",
    "    new_data = scaler.transform([[gpa, sat_score, extra_activities]])\n",
    "    prediction = model.predict(new_data)\n",
    "\n",
    "    # Display the prediction result\n",
    "    if prediction[0] == 1:\n",
    "        print(\"Prediction: The student is likely to be ADMITTED.\")\n",
    "    else:\n",
    "        print(\"Prediction: The student is NOT likely to be admitted.\")\n",
    "    print(\"\\n\")\n",
    "    \n",
    "\n",
    "# Example usage:\n",
    "predict_admission(model, scaler)\n",
    "predict_admission(model, scaler)\n"
   ]
  }
 ],
 "metadata": {
  "kernelspec": {
   "display_name": "Python 3",
   "language": "python",
   "name": "python3"
  },
  "language_info": {
   "codemirror_mode": {
    "name": "ipython",
    "version": 3
   },
   "file_extension": ".py",
   "mimetype": "text/x-python",
   "name": "python",
   "nbconvert_exporter": "python",
   "pygments_lexer": "ipython3",
   "version": "3.9.6"
  }
 },
 "nbformat": 4,
 "nbformat_minor": 2
}
